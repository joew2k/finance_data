{
  "nbformat": 4,
  "nbformat_minor": 0,
  "metadata": {
    "colab": {
      "provenance": [],
      "authorship_tag": "ABX9TyPkLfivYIOYsDza5kDjecbp",
      "include_colab_link": true
    },
    "kernelspec": {
      "name": "python3",
      "display_name": "Python 3"
    },
    "language_info": {
      "name": "python"
    }
  },
  "cells": [
    {
      "cell_type": "markdown",
      "metadata": {
        "id": "view-in-github",
        "colab_type": "text"
      },
      "source": [
        "<a href=\"https://colab.research.google.com/github/joew2k/finance_data/blob/main/NumericalAnalysisWithSympy.ipynb\" target=\"_parent\"><img src=\"https://colab.research.google.com/assets/colab-badge.svg\" alt=\"Open In Colab\"/></a>"
      ]
    },
    {
      "cell_type": "code",
      "execution_count": 1,
      "metadata": {
        "id": "sughlUjhUdZH"
      },
      "outputs": [],
      "source": [
        "import sympy as sp"
      ]
    },
    {
      "cell_type": "code",
      "source": [
        "x = sp.Symbol('x')\n",
        "sp.solve(x**2 - 2, x)"
      ],
      "metadata": {
        "colab": {
          "base_uri": "https://localhost:8080/"
        },
        "id": "auc2rCV7VF0r",
        "outputId": "15f1b34a-7223-49a2-ba4c-0bc3bd97b064"
      },
      "execution_count": 2,
      "outputs": [
        {
          "output_type": "execute_result",
          "data": {
            "text/plain": [
              "[-sqrt(2), sqrt(2)]"
            ]
          },
          "metadata": {},
          "execution_count": 2
        }
      ]
    },
    {
      "cell_type": "code",
      "source": [
        "soln = sp.solve(x**4 - x**2 - 1, x)\n",
        "for j in range(0, len(soln)):\n",
        "  print(sp.N(soln[j]))"
      ],
      "metadata": {
        "colab": {
          "base_uri": "https://localhost:8080/"
        },
        "id": "Q5gK60GWVj75",
        "outputId": "2f04362b-f222-4e95-e709-25bd80a62332"
      },
      "execution_count": 4,
      "outputs": [
        {
          "output_type": "stream",
          "name": "stdout",
          "text": [
            "-0.786151377757423*I\n",
            "0.786151377757423*I\n",
            "-1.27201964951407\n",
            "1.27201964951407\n"
          ]
        }
      ]
    },
    {
      "cell_type": "markdown",
      "source": [
        "x\n",
        "4\n",
        "−\n",
        "x\n",
        "2\n",
        "−\n",
        "x\n",
        "+\n",
        "5\n",
        "=\n",
        "0\n",
        " ."
      ],
      "metadata": {
        "id": "_50iFgqoXkxN"
      }
    },
    {
      "cell_type": "code",
      "source": [
        "soln = sp.solve(x**4 - x**2 - x + 5, x)\n",
        "for i in range(0, len(soln)):\n",
        "  print('The {} solution is {}'.format(i, sp.N(soln[i])))"
      ],
      "metadata": {
        "colab": {
          "base_uri": "https://localhost:8080/"
        },
        "id": "tsm4PqeMV-Nc",
        "outputId": "001d2309-1fef-4c57-bfd0-a1a6c253348e"
      },
      "execution_count": 6,
      "outputs": [
        {
          "output_type": "stream",
          "name": "stdout",
          "text": [
            "The 0 solution is -1.17179837082199 - 1.04233329891297*I\n",
            "The 1 solution is 1.17179837082199 + 0.812258664280874*I\n",
            "The 2 solution is -1.17179837082199 + 1.04233329891297*I\n",
            "The 3 solution is 1.17179837082199 - 0.812258664280874*I\n"
          ]
        }
      ]
    },
    {
      "cell_type": "markdown",
      "source": [
        "For floating number where x =1 for x4 - x2 -x + 5 = 0"
      ],
      "metadata": {
        "id": "H8my1vWLZDg_"
      }
    },
    {
      "cell_type": "code",
      "source": [
        "soln = sp.nsolve(x**3 - x**2 - x - 2, x, 1)"
      ],
      "metadata": {
        "id": "rj7bzRkkYIFM"
      },
      "execution_count": 10,
      "outputs": []
    },
    {
      "cell_type": "code",
      "source": [
        "soln"
      ],
      "metadata": {
        "colab": {
          "base_uri": "https://localhost:8080/",
          "height": 37
        },
        "id": "9EGK_nAeZb7S",
        "outputId": "842df266-030e-4c14-916f-f56979bd476c"
      },
      "execution_count": 11,
      "outputs": [
        {
          "output_type": "execute_result",
          "data": {
            "text/plain": [
              "2.00000000000000"
            ],
            "text/latex": "$\\displaystyle 2.0$"
          },
          "metadata": {},
          "execution_count": 11
        }
      ]
    },
    {
      "cell_type": "code",
      "source": [],
      "metadata": {
        "id": "kDlw42j-Zc72"
      },
      "execution_count": null,
      "outputs": []
    },
    {
      "cell_type": "markdown",
      "source": [
        "Solve x\n",
        "3\n",
        "ln\n",
        "(\n",
        "x\n",
        ")\n",
        "=\n",
        "7"
      ],
      "metadata": {
        "id": "BPv2QfRoaVCY"
      }
    },
    {
      "cell_type": "code",
      "source": [
        "# symbolic\n",
        "from sympy.functions.elementary.exponential import log\n",
        "logsoln = sp.solve(x**3 * log(x) - 7, x)"
      ],
      "metadata": {
        "id": "y3PU88bRaajA"
      },
      "execution_count": 12,
      "outputs": []
    },
    {
      "cell_type": "code",
      "source": [
        "logsoln"
      ],
      "metadata": {
        "colab": {
          "base_uri": "https://localhost:8080/"
        },
        "id": "2b3di0sIasVn",
        "outputId": "45aba60c-6234-4394-fae2-0aa8dd559641"
      },
      "execution_count": 13,
      "outputs": [
        {
          "output_type": "execute_result",
          "data": {
            "text/plain": [
              "[exp(LambertW(21)/3)]"
            ]
          },
          "metadata": {},
          "execution_count": 13
        }
      ]
    },
    {
      "cell_type": "markdown",
      "source": [
        "Numerical"
      ],
      "metadata": {
        "id": "eScENluTa74R"
      }
    },
    {
      "cell_type": "code",
      "source": [
        "logsoln = sp.solve(x**3 * log(x) - 7, x)\n",
        "[sp.N(logsoln[i]) for i in range(0, len(logsoln))]"
      ],
      "metadata": {
        "colab": {
          "base_uri": "https://localhost:8080/"
        },
        "id": "U_qnzX47au9L",
        "outputId": "17dda31b-2047-47e0-fdd6-0a36e49a1ad0"
      },
      "execution_count": 16,
      "outputs": [
        {
          "output_type": "execute_result",
          "data": {
            "text/plain": [
              "[2.10900555579451]"
            ]
          },
          "metadata": {},
          "execution_count": 16
        }
      ]
    },
    {
      "cell_type": "code",
      "source": [],
      "metadata": {
        "id": "2y1xYklTbFoa"
      },
      "execution_count": null,
      "outputs": []
    },
    {
      "cell_type": "markdown",
      "source": [
        "## Symbolic Plotting"
      ],
      "metadata": {
        "id": "ePKcObfCb0EU"
      }
    },
    {
      "cell_type": "code",
      "source": [
        "y = sp.Symbol('y')\n",
        "f = (x+2)**3\n",
        "sp.plot(f,(x, -5, 2));"
      ],
      "metadata": {
        "colab": {
          "base_uri": "https://localhost:8080/",
          "height": 487
        },
        "id": "EiT5ou6Bb1jm",
        "outputId": "35cdbc14-2b5f-48e9-cfa7-5515b910cc3e"
      },
      "execution_count": 18,
      "outputs": [
        {
          "output_type": "display_data",
          "data": {
            "text/plain": [
              "<Figure size 640x480 with 1 Axes>"
            ],
            "image/png": "[encoded data removed]"
          },
          "metadata": {}
        }
      ]
    },
    {
      "cell_type": "code",
      "source": [],
      "metadata": {
        "id": "18P7bdCPcPSn"
      },
      "execution_count": null,
      "outputs": []
    }
  ]
}