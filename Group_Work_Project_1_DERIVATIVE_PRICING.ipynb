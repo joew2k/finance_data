{
  "cells": [
    {
      "cell_type": "markdown",
      "metadata": {
        "id": "view-in-github",
        "colab_type": "text"
      },
      "source": [
        "<a href=\"https://colab.research.google.com/github/joew2k/finance_data/blob/main/Group_Work_Project_1_DERIVATIVE_PRICING.ipynb\" target=\"_parent\"><img src=\"https://colab.research.google.com/assets/colab-badge.svg\" alt=\"Open In Colab\"/></a>"
      ]
    },
    {
      "cell_type": "code",
      "execution_count": null,
      "metadata": {
        "id": "EhxBFPfU2td5"
      },
      "outputs": [],
      "source": [
        "import numpy as np\n",
        "import matplotlib.pyplot as plt"
      ]
    },
    {
      "cell_type": "code",
      "execution_count": null,
      "metadata": {
        "id": "v6lsDhs22td9"
      },
      "outputs": [],
      "source": [
        "\n",
        "\n",
        "def american_option_vol_(S_ini, K, T, r, sigma, N, opttype, dv):\n",
        "    dt = T / N  # Define time step\n",
        "    u = np.exp(sigma * np.sqrt(dt))  # Define u\n",
        "    d = np.exp(-sigma * np.sqrt(dt))  # Define d\n",
        "    p = (np.exp(r * dt) - d) / (u - d)  # risk-neutral probabilities\n",
        "    C = np.zeros([N + 1, N + 1])  # call prices\n",
        "    S = np.zeros([N + 1, N + 1])  # underlying price\n",
        "    Delta = np.zeros([N, N])\n",
        "\n",
        "    # Initialize Vega\n",
        "    vega = np.zeros([N + 1, N + 1])\n",
        "\n",
        "    for i in range(0, N + 1):\n",
        "        S[N, i] = S_ini * (u ** (i)) * (d ** (N - i))\n",
        "        if opttype == \"C\":\n",
        "            C[N, i] = max(S[N, i] - K, 0)\n",
        "        else:\n",
        "            C[N, i] = max(K - S[N, i], 0)\n",
        "\n",
        "    for j in range(N - 1, -1, -1):\n",
        "        for i in range(0, j + 1):\n",
        "            C[j, i] = np.exp(-r * dt) * (\n",
        "                p * C[j + 1, i + 1] + (1 - p) * C[j + 1, i]\n",
        "            )  # Computing the European option prices\n",
        "            S[j, i] = (\n",
        "                S_ini * (u ** (i)) * (d ** (j - i))\n",
        "            )  # Underlying evolution for each node\n",
        "            if opttype == \"C\":\n",
        "                C[j, i] = max(\n",
        "                    C[j, i], S[j, i] - K\n",
        "                )  # Decision between the European option price and the payoff from early-exercise\n",
        "            else:\n",
        "                C[j, i] = max(\n",
        "                    C[j, i], K - S[j, i]\n",
        "                )  # Decision between the European option price and the payoff from early-exercise\n",
        "\n",
        "            # Calculate Vega using central difference method\n",
        "    sigma_2 = sigma + dv\n",
        "    u2 = np.exp(sigma_2 * np.sqrt(dt))\n",
        "    d2 = np.exp(-sigma_2 * np.sqrt(dt))\n",
        "    p2 = (np.exp(r * dt) - d2) / (u2 - d2)\n",
        "    C2 = np.zeros([N + 1, N + 1])\n",
        "    # print({\"p2\": p2, \"p\":p})\n",
        "    for i in range(0, N + 1):\n",
        "        if opttype == \"C\":\n",
        "            C2[N, i] = max(S[N, i] - K, 0)\n",
        "        else:\n",
        "            C2[N, i] = max(K - S[N, i], 0)\n",
        "    for j in range(N - 1, -1, -1):\n",
        "        for i in range(0, j+1):\n",
        "            C2[j, i] = np.exp(-r * dt) * (p2 * C2[j +1, i + 1] + (1 - p2) * C2[j + 1, i])\n",
        "            # C[j, i] = np.exp(-r * dt) * (\n",
        "            #     p * C[j + 1, i + 1] + (1 - p) * C[j + 1, i]\n",
        "            # )\n",
        "\n",
        "            if opttype == \"C\":\n",
        "                C2[j, i] = max(C2[j, i], S[j, i] - K)\n",
        "            else:\n",
        "                C2[j, i] = max(C2[j, i], K - S[j, i])\n",
        "\n",
        "            Delta[j, i] = (C[j + 1, i + 1] - C[j + 1, i])/(S[j+1, i + 1] - S[j + 1, i])\n",
        "\n",
        "    # Calculate the vega as a finite difference\n",
        "    V = (C2[0, 0] - C[0, 0])/dv\n",
        "\n",
        "    return C[0, 0], C, S, V, Delta\n",
        "\n"
      ]
    },
    {
      "cell_type": "code",
      "execution_count": null,
      "metadata": {
        "id": "k4Xdq1cd2td_"
      },
      "outputs": [],
      "source": [
        "S0 = 100 # Initial stock price\n",
        "K = 100 # Strike price\n",
        "T = 0.25 # Time to maturity in years\n",
        "r = 0.05 # Risk-free interest rate\n",
        "sigma = 0.2 # Initial volatility\n",
        "N = 100 # Number of steps\n",
        "opttype = \"C\" # Option type (call or put)\n",
        "dv = 0.05 # Change in volatility\n",
        "# call_prices, C, S, V = american_option_vol(S0, K, T, r, sigma, N, opttype, dv)"
      ]
    },
    {
      "cell_type": "code",
      "execution_count": null,
      "metadata": {
        "colab": {
          "base_uri": "https://localhost:8080/"
        },
        "id": "x-gq3j6F2td_",
        "outputId": "2d0c5690-fdde-4645-ae0f-bd7eabd9f7e3"
      },
      "outputs": [
        {
          "output_type": "stream",
          "name": "stdout",
          "text": [
            "for N =   1, The price is 5.59\n",
            "for N =  10, The price is 4.52\n",
            "for N = 100, The price is 4.61\n",
            "for N = 200, The price is 4.61\n",
            "for N = 300, The price is 4.61\n",
            "for N = 400, The price is 4.61\n",
            "for N = 500, The price is 4.61\n",
            "for N = 600, The price is 4.61\n",
            "for N = 700, The price is 4.61\n",
            "for N = 800, The price is 4.61\n",
            "for N = 900, The price is 4.61\n",
            "for N = 1000, The price is 4.61\n",
            "for N = 1500, The price is 4.61\n",
            "for N = 2000, The price is 4.61\n",
            "for N = 2500, The price is 4.61\n"
          ]
        }
      ],
      "source": [
        "price_array = []\n",
        "for N_steps in [1, 10, 100, 200, 300, 400, 500, 600, 700, 800, 900, 1000, 1500, 2000, 2500 ]:\n",
        "    call_prices, C, S, V, Delta = american_option_vol_(S0, K, T, r, sigma, N_steps, opttype, dv)\n",
        "    price_array.append(call_prices)\n",
        "    print(\"for N = {:3d}, The price is {:.2f}\".format(N_steps, call_prices))"
      ]
    },
    {
      "cell_type": "code",
      "execution_count": null,
      "metadata": {
        "colab": {
          "base_uri": "https://localhost:8080/",
          "height": 491
        },
        "id": "oXWTgDxe2teA",
        "outputId": "f32ff2d6-666f-4214-be42-d2f5e56df18f"
      },
      "outputs": [
        {
          "output_type": "execute_result",
          "data": {
            "text/plain": [
              "Text(0, 0.5, 'American Call Option Price')"
            ]
          },
          "metadata": {},
          "execution_count": 5
        },
        {
          "output_type": "display_data",
          "data": {
            "text/plain": [
              "<Figure size 640x480 with 1 Axes>"
            ],
            "image/png": "[encoded data removed]"
          },
          "metadata": {}
        }
      ],
      "source": [
        "N_steps = [1, 10, 100, 200, 300, 400, 500, 600, 700, 800, 900, 1000, 1500, 2000, 2500]\n",
        "plt.plot(N_steps, np.array(price_array))\n",
        "plt.title(\"N step conversion\")\n",
        "plt.xlabel(\"Number of steps (N)\")\n",
        "plt.ylabel(\"American Call Option Price\")\n"
      ]
    },
    {
      "cell_type": "code",
      "source": [
        "S0 = 100 # Initial stock price\n",
        "K = 100 # Strike price\n",
        "T = 0.25 # Time to maturity in years\n",
        "r = 0.05 # Risk-free interest rate\n",
        "sigma = 0.2 # Initial volatility\n",
        "N = 100 # Number of steps\n",
        "opttype = \"P\" # Option type (call or put)\n",
        "dv = 0.05 # Change in volatility\n",
        "# call_prices, C, S, V = american_option_vol(S0, K, T, r, sigma, N, opttype, dv)\n",
        "price_array = []\n",
        "for N_steps in [1, 10, 100, 200, 300, 400, 500, 600, 700, 800, 900, 1000, 1500, 2000, 2500 ]:\n",
        "    call_prices, C, S, V, Delta = american_option_vol_(S0, K, T, r, sigma, N_steps, opttype, dv)\n",
        "    price_array.append(call_prices)\n",
        "    print(\"for N = {:3d}, The price is {:.2f}\".format(N_steps, call_prices))\n",
        "N_steps = [1, 10, 100, 200, 300, 400, 500, 600, 700, 800, 900, 1000, 1500, 2000, 2500]\n",
        "plt.plot(N_steps, np.array(price_array))\n",
        "plt.title(\"N step conversion\")\n",
        "plt.xlabel(\"Number of steps (N)\")\n",
        "plt.ylabel(\"American Call Option Price\")\n",
        "plt.show()"
      ],
      "metadata": {
        "colab": {
          "base_uri": "https://localhost:8080/",
          "height": 755
        },
        "id": "B4xKS9X0vCYU",
        "outputId": "a02cbc60-9411-481c-fce3-6765c42c0b10"
      },
      "execution_count": null,
      "outputs": [
        {
          "output_type": "stream",
          "name": "stdout",
          "text": [
            "for N =   1, The price is 4.34\n",
            "for N =  10, The price is 3.43\n",
            "for N = 100, The price is 3.47\n",
            "for N = 200, The price is 3.48\n",
            "for N = 300, The price is 3.48\n",
            "for N = 400, The price is 3.48\n",
            "for N = 500, The price is 3.48\n",
            "for N = 600, The price is 3.48\n",
            "for N = 700, The price is 3.48\n",
            "for N = 800, The price is 3.48\n",
            "for N = 900, The price is 3.48\n",
            "for N = 1000, The price is 3.48\n",
            "for N = 1500, The price is 3.48\n",
            "for N = 2000, The price is 3.48\n",
            "for N = 2500, The price is 3.48\n"
          ]
        },
        {
          "output_type": "display_data",
          "data": {
            "text/plain": [
              "<Figure size 640x480 with 1 Axes>"
            ],
            "image/png": "[encoded data removed]"
          },
          "metadata": {}
        }
      ]
    },
    {
      "cell_type": "markdown",
      "source": [
        "S0 = 100 # Initial stock price\n",
        "K = 100 # Strike price\n",
        "T = 0.25 # Time to maturity in years\n",
        "r = 0.05 # Risk-free interest rate\n",
        "sigma = 0.2 # Initial volatility\n",
        "N = 100 # Number of steps\n",
        "opttype = \"C\" # Option type (call or put)\n",
        "dv = 0.05 # Change in volatility\n",
        "# call_prices, C, S, V = american_option_vol(S0, K, T, r, sigma, N, opttype, dv)"
      ],
      "metadata": {
        "id": "5BP_jS6Uu0Sc"
      }
    },
    {
      "cell_type": "markdown",
      "metadata": {
        "id": "Q_tEckZm2teA"
      },
      "source": [
        "### 8a.\n",
        "Total number of steps choosen to achieve reliable convenient estaimate is 200 steps for Call and 200 Steps for Put option"
      ]
    },
    {
      "cell_type": "markdown",
      "metadata": {
        "id": "WSeEbKet2teB"
      },
      "source": [
        "\n",
        "8b. I ran iterartion on the binomial tree model with steps from 1 to 2500, from the image above the otion price was stable at 200 steps for Call with a price of 4.61 and similarly the put option price of 3.48 at 200 steps."
      ]
    },
    {
      "cell_type": "code",
      "execution_count": null,
      "metadata": {
        "colab": {
          "base_uri": "https://localhost:8080/"
        },
        "id": "Sy4ZfKIG2teC",
        "outputId": "21cfe65b-60ef-40fe-e68c-157b70df1a9c"
      },
      "outputs": [
        {
          "output_type": "stream",
          "name": "stdout",
          "text": [
            "The Delta at t = 0 for the American call option price is 0.57\n"
          ]
        }
      ],
      "source": [
        "S0 = 100 # Initial stock price\n",
        "K = 100 # Strike price\n",
        "T = 0.25 # Time to maturity in years\n",
        "r = 0.05 # Risk-free interest rate\n",
        "sigma = 0.2 # Initial volatility\n",
        "N = 100 # Number of steps\n",
        "opttype = \"C\" # Option type (call or put)\n",
        "dv = 0.05 # Change in volatility\n",
        "call_prices, C, S, V, Delta = american_option_vol_(S0, K, T, r, sigma, N, opttype, dv)\n",
        "print(\"The Delta at t = 0 for the American call option price is {:.2f}\".format(Delta[0, 0]))"
      ]
    },
    {
      "cell_type": "code",
      "execution_count": null,
      "metadata": {
        "colab": {
          "base_uri": "https://localhost:8080/"
        },
        "id": "mO5PSGyg2teC",
        "outputId": "2beb28a6-f089-417d-dbfd-575c56aaf42c"
      },
      "outputs": [
        {
          "output_type": "stream",
          "name": "stdout",
          "text": [
            "The Delta at t = 0 for the American put option price is -0.45\n"
          ]
        }
      ],
      "source": [
        "S0 = 100 # Initial stock price\n",
        "K = 100 # Strike price\n",
        "T = 0.25 # Time to maturity in years\n",
        "r = 0.05 # Risk-free interest rate\n",
        "sigma = 0.2 # Initial volatility\n",
        "N = 100 # Number of steps\n",
        "opttype = \"P\" # Option type (call or put)\n",
        "dv = 0.05 # Change in volatility\n",
        "call_prices, C, S, V, Delta = american_option_vol_(S0, K, T, r, sigma, N, opttype, dv)\n",
        "print(\"The Delta at t = 0 for the American put option price is {:.2f}\".format(Delta[0,0]))"
      ]
    },
    {
      "cell_type": "markdown",
      "metadata": {
        "id": "X5H2BhKE2teD"
      },
      "source": [
        "9a: The Call Delta is positive and the Put Delta is negative. This means that the call option's price increases when the underlying asset's price increases, and vice versa. The put option's price decreases when the underlying asset's price increases, and vice versa.\n"
      ]
    },
    {
      "cell_type": "markdown",
      "metadata": {
        "id": "ynTLPrAW2teD"
      },
      "source": [
        "9b. The Delta of an option measures the sensitivity of the option's price to changes in the underlying asset's price. It can be interpreted as the approximate change in the option's price for a small change in the underlying asset's price, holding other factors constant.\n",
        "\n",
        "It makes sense to obtain a positive Delta for a call option because a call option gives the holder the right to buy the underlying asset at a fixed strike price. Therefore, when the underlying asset's price increases, the call option becomes more valuable as it allows the holder to buy the asset at a lower price than the market price.\n",
        "\n",
        "It makes sense to obtain a negative Delta for a put option because a put option gives the holder the right to sell the underlying asset at a fixed strike price. Therefore, when the underlying asset's price decreases, the put option becomes more valuable as it allows the holder to sell the asset at a higher price than the market price."
      ]
    },
    {
      "cell_type": "code",
      "execution_count": null,
      "metadata": {
        "colab": {
          "base_uri": "https://localhost:8080/"
        },
        "id": "zgn8xZww2teD",
        "outputId": "ab24a3cb-d980-4c0c-c414-12c12aa2ea53"
      },
      "outputs": [
        {
          "output_type": "stream",
          "name": "stdout",
          "text": [
            "The price of American Put option at 20.0% volatility is 3.48\n"
          ]
        }
      ],
      "source": [
        "S0 = 100 # Initial stock price\n",
        "K = 100 # Strike price\n",
        "T = 0.25 # Time to maturity in years\n",
        "r = 0.05 # Risk-free interest rate\n",
        "sigma = 0.2 # Initial volatility\n",
        "N = 200 # Number of steps\n",
        "opttype = \"P\" # Option type (call or put)\n",
        "dv = 0.05 # Change in volatility\n",
        "put_prices, C, S, V, Delta = american_option_vol_(S0, K, T, r, sigma, N, opttype, dv)\n",
        "print(\"The price of American Put option at {}% volatility is {:.2f}\".format(sigma *100, put_prices))"
      ]
    },
    {
      "cell_type": "code",
      "execution_count": null,
      "metadata": {
        "colab": {
          "base_uri": "https://localhost:8080/"
        },
        "id": "m6DQGmqA2teE",
        "outputId": "db54a719-b1ce-41cc-81e2-e5dbde4161ac"
      },
      "outputs": [
        {
          "output_type": "stream",
          "name": "stdout",
          "text": [
            "The price of American Put option at 25.00 % volatility which represent 5% increament is 4.46\n"
          ]
        }
      ],
      "source": [
        "## Increased volatility by 5%\n",
        "S0 = 100 # Initial stock price\n",
        "K = 100 # Strike price\n",
        "T = 0.25 # Time to maturity in years\n",
        "r = 0.05 # Risk-free interest rate\n",
        "sigma = 0.2# Initial volatility\n",
        "N = 200 # Number of steps\n",
        "opttype = \"P\" # Option type (call or put)\n",
        "dv = 0.05 # Change in volatility\n",
        "put_prices_in, C, S, V, Delta = american_option_vol_(S0, K, T, r, sigma + 0.05, N, opttype, dv)\n",
        "print(\"The price of American Put option at {:.2f} % volatility which represent 5% increament is {:.2f}\".format((sigma + 0.05) *100, put_prices_in))"
      ]
    },
    {
      "cell_type": "code",
      "execution_count": null,
      "metadata": {
        "colab": {
          "base_uri": "https://localhost:8080/"
        },
        "id": "kaFh6gjf2teE",
        "outputId": "0652cdfc-0417-484e-9f4b-dae69049d6fc"
      },
      "outputs": [
        {
          "output_type": "stream",
          "name": "stdout",
          "text": [
            "The vega of the call option is approximately equal to $0.9792\n"
          ]
        }
      ],
      "source": [
        "print(\"The vega of the call option is approximately equal to ${:.4f}\".format(put_prices_in - put_prices))"
      ]
    },
    {
      "cell_type": "markdown",
      "metadata": {
        "id": "OgxL1f5V2teE"
      },
      "source": [
        "Using the above we can say that due to 5% change in the volatilty of the undrlying asset, the price of the option will change approximately $0.9783"
      ]
    },
    {
      "cell_type": "code",
      "execution_count": null,
      "metadata": {
        "colab": {
          "base_uri": "https://localhost:8080/"
        },
        "id": "vu25uvy02teE",
        "outputId": "d73898e6-109d-4b5d-d7ec-a4b3816b0620"
      },
      "outputs": [
        {
          "output_type": "stream",
          "name": "stdout",
          "text": [
            "The price of American Call option at 20.00 % volatility is 4.61\n"
          ]
        }
      ],
      "source": [
        "call_prices, C, S, V, Delta = american_option_vol_(S0, K, T, r, sigma, N, \"C\", dv)\n",
        "print(\"The price of American Call option at {:.2f} % volatility is {:.2f}\".format(sigma *100, call_prices))"
      ]
    },
    {
      "cell_type": "code",
      "execution_count": null,
      "metadata": {
        "colab": {
          "base_uri": "https://localhost:8080/"
        },
        "id": "bQFmkpbm2teF",
        "outputId": "7b2f0fa8-e6fa-4958-9b97-7ae72075c491"
      },
      "outputs": [
        {
          "output_type": "stream",
          "name": "stdout",
          "text": [
            "The price of American Call option at 20.00 % volatility which represent 5% increament is 5.59\n"
          ]
        }
      ],
      "source": [
        "call_prices_in, C, S, V, Delta = american_option_vol_(S0, K, T, r, sigma + 0.05, N, \"C\", dv)\n",
        "print(\"The price of American Call option at {:.2f} % volatility which represent 5% increament is {:.2f}\".format(sigma *100, call_prices_in))"
      ]
    },
    {
      "cell_type": "code",
      "execution_count": null,
      "metadata": {
        "colab": {
          "base_uri": "https://localhost:8080/"
        },
        "id": "YP1OeZnw2teF",
        "outputId": "70a03a20-2965-41a6-d3e7-810358f11d17"
      },
      "outputs": [
        {
          "output_type": "stream",
          "name": "stdout",
          "text": [
            "The vega of the call option is approximately equal to $0.9822\n"
          ]
        }
      ],
      "source": [
        "print(\"The vega of the call option is approximately equal to ${:.4f}\".format(call_prices_in - call_prices))"
      ]
    },
    {
      "cell_type": "markdown",
      "metadata": {
        "id": "keDx6g8a2teF"
      },
      "source": [
        "b. From the above we can say that due to 5% change in the volatilty of the undrlying asset, the price of the call option will change approximately 0.9822 and 0.9792 for the American put option"
      ]
    },
    {
      "cell_type": "code",
      "execution_count": null,
      "metadata": {
        "id": "-Wt4esGS2teF"
      },
      "outputs": [],
      "source": []
    },
    {
      "cell_type": "markdown",
      "source": [
        "## Step 2\n",
        "\n",
        "17.  "
      ],
      "metadata": {
        "id": "xWC-gbYu23RG"
      }
    },
    {
      "cell_type": "code",
      "source": [
        "def _gen_stock_vec(s0, nb, sigma, h):\n",
        "    # s0 = 100\n",
        "    # sigma = 0.5\n",
        "    up = np.exp(sigma * np.sqrt(2 * h))\n",
        "    down = 1 / up # down movement to force a recombining tree\n",
        "\n",
        "    vec_u = up * np.ones(nb)\n",
        "    np.cumprod(vec_u, out=vec_u) # Computing u, u^2, u^3 ..., u^nb\n",
        "\n",
        "    vec_d = down * np.ones(nb)\n",
        "    np.cumprod(vec_d, out=vec_d)\n",
        "\n",
        "    res = np.concatenate(\n",
        "        (vec_d[::-1], [1.0], vec_u)\n",
        "    ) # putting together the last period tree underlyings\n",
        "\n",
        "    res *= s0\n",
        "    return res"
      ],
      "metadata": {
        "id": "1PLEg6Mx25C_"
      },
      "execution_count": null,
      "outputs": []
    },
    {
      "cell_type": "code",
      "source": [
        "def price(s0, K,  r, T,  nb_steps, sigma, opttype):\n",
        "    # r = 0\n",
        "    # sigma = 0.5\n",
        "    # T = 1\n",
        "    # K = 130\n",
        "    h = T / nb_steps\n",
        "    discount = np.exp(-r * h)  # Define discount factor for simplicity\n",
        "\n",
        "    # Define risk-neutral prob\n",
        "    pu = (\n",
        "        (np.exp(r * h / 2) - np.exp(-sigma * np.sqrt(h / 2)))\n",
        "        /(np.exp(sigma * np.sqrt(h / 2)) - np.exp(-sigma * np.sqrt(h / 2)))\n",
        "    ) ** 2\n",
        "    pd = (\n",
        "        (- np.exp(r * h / 2) + np.exp(sigma * np.sqrt(h / 2)))\n",
        "        /(np.exp(sigma * np.sqrt(h / 2)) - np.exp(-sigma * np.sqrt(h / 2)))\n",
        "    ) ** 2\n",
        "\n",
        "    pm = 1 - pu - pd\n",
        "    # print(pu, pd, pm)\n",
        "\n",
        "    # This would be our underlying evolution\n",
        "    s = _gen_stock_vec(s0, nb_steps, sigma, h)\n",
        "\n",
        "    # Define payoff\n",
        "    if opttype == \"C\":\n",
        "        final_payoff = np.maximum(s - K, 0)\n",
        "    else:\n",
        "        final_payoff = np.maximum(K - s, 0)\n",
        "    nxt_vec_prices = final_payoff\n",
        "\n",
        "    # Proceed with iterations for the calculation of payoffs\n",
        "    for i in range(1, nb_steps + 1):\n",
        "        vec_stock = _gen_stock_vec(s0, nb_steps-i, sigma, h)\n",
        "        expectation = np.zeros(vec_stock.size)\n",
        "        # print(vec_stock)\n",
        "\n",
        "        for j in range(expectation.size):\n",
        "            tmp = nxt_vec_prices[j] * pd\n",
        "            tmp += nxt_vec_prices[j + 1] * pm\n",
        "            tmp += nxt_vec_prices[j + 2] * pu\n",
        "\n",
        "            expectation[j] = tmp\n",
        "            # print(expectation)\n",
        "            # if opttype == \"C\":\n",
        "            #     expectation[j] = max(expectation[j], vec_stock[j] - K)\n",
        "            # else:\n",
        "            #     expectation[j] = max(expectation[j], K - vec_stock[j] )\n",
        "        nxt_vec_prices = discount * expectation\n",
        "    return nxt_vec_prices[0]\n"
      ],
      "metadata": {
        "id": "A8LKboOM271t"
      },
      "execution_count": null,
      "outputs": []
    },
    {
      "cell_type": "code",
      "source": [
        "Call_option_price_arrau = []\n",
        "for i in range(90, 115, 5):\n",
        "    Call_option_price_arrau.append(price(100, i, 0.05, 0.25, 1, 0.5, \"C\"))\n",
        "Strike_price = [round((i/100) * 100, 2) for i in range(90, 115, 5)]\n",
        "plt.plot(Strike_price, np.array(Call_option_price_arrau))\n",
        "plt.xlabel(\"Moneyness\")\n",
        "plt.ylabel(\"Option Price\")"
      ],
      "metadata": {
        "colab": {
          "base_uri": "https://localhost:8080/",
          "height": 468
        },
        "id": "S4fE4ooj2_og",
        "outputId": "07355b2d-3f75-4dbc-8179-a8d2e41a27af"
      },
      "execution_count": null,
      "outputs": [
        {
          "output_type": "execute_result",
          "data": {
            "text/plain": [
              "Text(0, 0.5, 'Option Price')"
            ]
          },
          "metadata": {},
          "execution_count": 17
        },
        {
          "output_type": "display_data",
          "data": {
            "text/plain": [
              "<Figure size 640x480 with 1 Axes>"
            ],
            "image/png": "[encoded data removed]"
          },
          "metadata": {}
        }
      ]
    },
    {
      "cell_type": "code",
      "source": [
        "put_option_price_arrau = []\n",
        "for i in range(90, 115, 5):\n",
        "    put_option_price_arrau.append(price(100, i, 0.05, 0.25, 1, 0.5, \"P\"))\n",
        "Strike_price = [round((i/100) * 100, 2) for i in range(90, 115, 5)]\n",
        "plt.plot(Strike_price, np.array(put_option_price_arrau))\n",
        "plt.xlabel(\"Moneyness\")\n",
        "plt.ylabel(\"Option Price\")"
      ],
      "metadata": {
        "colab": {
          "base_uri": "https://localhost:8080/",
          "height": 468
        },
        "id": "kc7Rlj7q3L_Z",
        "outputId": "e396b757-8116-41a3-9213-0e3fc92b3ab6"
      },
      "execution_count": null,
      "outputs": [
        {
          "output_type": "execute_result",
          "data": {
            "text/plain": [
              "Text(0, 0.5, 'Option Price')"
            ]
          },
          "metadata": {},
          "execution_count": 18
        },
        {
          "output_type": "display_data",
          "data": {
            "text/plain": [
              "<Figure size 640x480 with 1 Axes>"
            ],
            "image/png": "[encoded data removed]"
          },
          "metadata": {}
        }
      ]
    },
    {
      "cell_type": "code",
      "source": [],
      "metadata": {
        "id": "1UOJMpyQ3qeG"
      },
      "execution_count": null,
      "outputs": []
    },
    {
      "cell_type": "markdown",
      "source": [
        "18.  At S0 = 100 the value of the call option decrease with moneyness and the inverse was observed for put option where there is a continous increase increase in price."
      ],
      "metadata": {
        "id": "2PnNLlxQRCT1"
      }
    },
    {
      "cell_type": "code",
      "source": [
        "S0 = 180 # Initial stock price\n",
        "K = 182 # Strike price\n",
        "T = 6 # Time to maturity in years\n",
        "r = 0.02 # Risk-free interest rate\n",
        "sigma = 0.25 # Initial volatility\n",
        "N = 25 # Number of steps\n",
        "opttype = \"P\" # Option type (call or put)\n",
        "dv = 0.05 # Change in volatility\n",
        "call_prices, C, S, V, Delta = american_option_vol_(S0, K, T, r, sigma, N, opttype, dv)"
      ],
      "metadata": {
        "id": "xNODaU7mPyMw"
      },
      "execution_count": null,
      "outputs": []
    },
    {
      "cell_type": "code",
      "source": [
        "import pandas as pd\n",
        "delta_path = pd.DataFrame(Delta.round(4))[0]\n",
        "delta_path = pd.DataFrame({\"Delta\": delta_path.values})\n",
        "S_path = pd.DataFrame(S.round(4))[0]\n",
        "S_path = pd.DataFrame({\"Stock Prices\": S_path.values})\n",
        "stock_delta = pd.concat([S_path, delta_path], axis = 1)\n",
        "# stock_delta[\"N0 Shares\"] = stock_delta[\"Delta\"].diff()\n",
        "# stock_delta[\"N0 Shares\"][0] = stock_delta[\"Delta\"][0]\n",
        "stock_delta"
      ],
      "metadata": {
        "colab": {
          "base_uri": "https://localhost:8080/",
          "height": 864
        },
        "id": "IlGmaiG5Td9R",
        "outputId": "cb911abe-9aa9-443b-e36a-b568be901908"
      },
      "execution_count": null,
      "outputs": [
        {
          "output_type": "execute_result",
          "data": {
            "text/plain": [
              "    Stock Prices   Delta\n",
              "0       180.0000 -0.3571\n",
              "1       159.2511 -0.4553\n",
              "2       140.8940 -0.5693\n",
              "3       124.6529 -0.6979\n",
              "4       110.2840 -0.8395\n",
              "5        97.5714 -0.9593\n",
              "6        86.3242 -1.0000\n",
              "7        76.3735 -1.0000\n",
              "8        67.5698 -1.0000\n",
              "9        59.7809 -1.0000\n",
              "10       52.8899 -1.0000\n",
              "11       46.7932 -1.0000\n",
              "12       41.3993 -1.0000\n",
              "13       36.6271 -1.0000\n",
              "14       32.4050 -1.0000\n",
              "15       28.6697 -1.0000\n",
              "16       25.3649 -1.0000\n",
              "17       22.4410 -1.0000\n",
              "18       19.8542 -1.0000\n",
              "19       17.5656 -1.0000\n",
              "20       15.5408 -1.0000\n",
              "21       13.7494 -1.0000\n",
              "22       12.1645 -1.0000\n",
              "23       10.7622 -1.0000\n",
              "24        9.5217 -1.0000\n",
              "25        8.4241     NaN"
            ],
            "text/html": [
              "\n",
              "  <div id=\"df-e40e56b2-d256-4b19-a0ce-ad67dad1c113\" class=\"colab-df-container\">\n",
              "    <div>\n",
              "<style scoped>\n",
              "    .dataframe tbody tr th:only-of-type {\n",
              "        vertical-align: middle;\n",
              "    }\n",
              "\n",
              "    .dataframe tbody tr th {\n",
              "        vertical-align: top;\n",
              "    }\n",
              "\n",
              "    .dataframe thead th {\n",
              "        text-align: right;\n",
              "    }\n",
              "</style>\n",
              "<table border=\"1\" class=\"dataframe\">\n",
              "  <thead>\n",
              "    <tr style=\"text-align: right;\">\n",
              "      <th></th>\n",
              "      <th>Stock Prices</th>\n",
              "      <th>Delta</th>\n",
              "    </tr>\n",
              "  </thead>\n",
              "  <tbody>\n",
              "    <tr>\n",
              "      <th>0</th>\n",
              "      <td>180.0000</td>\n",
              "      <td>-0.3571</td>\n",
              "    </tr>\n",
              "    <tr>\n",
              "      <th>1</th>\n",
              "      <td>159.2511</td>\n",
              "      <td>-0.4553</td>\n",
              "    </tr>\n",
              "    <tr>\n",
              "      <th>2</th>\n",
              "      <td>140.8940</td>\n",
              "      <td>-0.5693</td>\n",
              "    </tr>\n",
              "    <tr>\n",
              "      <th>3</th>\n",
              "      <td>124.6529</td>\n",
              "      <td>-0.6979</td>\n",
              "    </tr>\n",
              "    <tr>\n",
              "      <th>4</th>\n",
              "      <td>110.2840</td>\n",
              "      <td>-0.8395</td>\n",
              "    </tr>\n",
              "    <tr>\n",
              "      <th>5</th>\n",
              "      <td>97.5714</td>\n",
              "      <td>-0.9593</td>\n",
              "    </tr>\n",
              "    <tr>\n",
              "      <th>6</th>\n",
              "      <td>86.3242</td>\n",
              "      <td>-1.0000</td>\n",
              "    </tr>\n",
              "    <tr>\n",
              "      <th>7</th>\n",
              "      <td>76.3735</td>\n",
              "      <td>-1.0000</td>\n",
              "    </tr>\n",
              "    <tr>\n",
              "      <th>8</th>\n",
              "      <td>67.5698</td>\n",
              "      <td>-1.0000</td>\n",
              "    </tr>\n",
              "    <tr>\n",
              "      <th>9</th>\n",
              "      <td>59.7809</td>\n",
              "      <td>-1.0000</td>\n",
              "    </tr>\n",
              "    <tr>\n",
              "      <th>10</th>\n",
              "      <td>52.8899</td>\n",
              "      <td>-1.0000</td>\n",
              "    </tr>\n",
              "    <tr>\n",
              "      <th>11</th>\n",
              "      <td>46.7932</td>\n",
              "      <td>-1.0000</td>\n",
              "    </tr>\n",
              "    <tr>\n",
              "      <th>12</th>\n",
              "      <td>41.3993</td>\n",
              "      <td>-1.0000</td>\n",
              "    </tr>\n",
              "    <tr>\n",
              "      <th>13</th>\n",
              "      <td>36.6271</td>\n",
              "      <td>-1.0000</td>\n",
              "    </tr>\n",
              "    <tr>\n",
              "      <th>14</th>\n",
              "      <td>32.4050</td>\n",
              "      <td>-1.0000</td>\n",
              "    </tr>\n",
              "    <tr>\n",
              "      <th>15</th>\n",
              "      <td>28.6697</td>\n",
              "      <td>-1.0000</td>\n",
              "    </tr>\n",
              "    <tr>\n",
              "      <th>16</th>\n",
              "      <td>25.3649</td>\n",
              "      <td>-1.0000</td>\n",
              "    </tr>\n",
              "    <tr>\n",
              "      <th>17</th>\n",
              "      <td>22.4410</td>\n",
              "      <td>-1.0000</td>\n",
              "    </tr>\n",
              "    <tr>\n",
              "      <th>18</th>\n",
              "      <td>19.8542</td>\n",
              "      <td>-1.0000</td>\n",
              "    </tr>\n",
              "    <tr>\n",
              "      <th>19</th>\n",
              "      <td>17.5656</td>\n",
              "      <td>-1.0000</td>\n",
              "    </tr>\n",
              "    <tr>\n",
              "      <th>20</th>\n",
              "      <td>15.5408</td>\n",
              "      <td>-1.0000</td>\n",
              "    </tr>\n",
              "    <tr>\n",
              "      <th>21</th>\n",
              "      <td>13.7494</td>\n",
              "      <td>-1.0000</td>\n",
              "    </tr>\n",
              "    <tr>\n",
              "      <th>22</th>\n",
              "      <td>12.1645</td>\n",
              "      <td>-1.0000</td>\n",
              "    </tr>\n",
              "    <tr>\n",
              "      <th>23</th>\n",
              "      <td>10.7622</td>\n",
              "      <td>-1.0000</td>\n",
              "    </tr>\n",
              "    <tr>\n",
              "      <th>24</th>\n",
              "      <td>9.5217</td>\n",
              "      <td>-1.0000</td>\n",
              "    </tr>\n",
              "    <tr>\n",
              "      <th>25</th>\n",
              "      <td>8.4241</td>\n",
              "      <td>NaN</td>\n",
              "    </tr>\n",
              "  </tbody>\n",
              "</table>\n",
              "</div>\n",
              "    <div class=\"colab-df-buttons\">\n",
              "\n",
              "  <div class=\"colab-df-container\">\n",
              "    <button class=\"colab-df-convert\" onclick=\"convertToInteractive('df-e40e56b2-d256-4b19-a0ce-ad67dad1c113')\"\n",
              "            title=\"Convert this dataframe to an interactive table.\"\n",
              "            style=\"display:none;\">\n",
              "\n",
              "  <svg xmlns=\"http://www.w3.org/2000/svg\" height=\"24px\" viewBox=\"0 -960 960 960\">\n",
              "    <path d=\"M120-120v-720h720v720H120Zm60-500h600v-160H180v160Zm220 220h160v-160H400v160Zm0 220h160v-160H400v160ZM180-400h160v-160H180v160Zm440 0h160v-160H620v160ZM180-180h160v-160H180v160Zm440 0h160v-160H620v160Z\"/>\n",
              "  </svg>\n",
              "    </button>\n",
              "\n",
              "  <style>\n",
              "    .colab-df-container {\n",
              "      display:flex;\n",
              "      gap: 12px;\n",
              "    }\n",
              "\n",
              "    .colab-df-convert {\n",
              "      background-color: #E8F0FE;\n",
              "      border: none;\n",
              "      border-radius: 50%;\n",
              "      cursor: pointer;\n",
              "      display: none;\n",
              "      fill: #1967D2;\n",
              "      height: 32px;\n",
              "      padding: 0 0 0 0;\n",
              "      width: 32px;\n",
              "    }\n",
              "\n",
              "    .colab-df-convert:hover {\n",
              "      background-color: #E2EBFA;\n",
              "      box-shadow: 0px 1px 2px rgba(60, 64, 67, 0.3), 0px 1px 3px 1px rgba(60, 64, 67, 0.15);\n",
              "      fill: #174EA6;\n",
              "    }\n",
              "\n",
              "    .colab-df-buttons div {\n",
              "      margin-bottom: 4px;\n",
              "    }\n",
              "\n",
              "    [theme=dark] .colab-df-convert {\n",
              "      background-color: #3B4455;\n",
              "      fill: #D2E3FC;\n",
              "    }\n",
              "\n",
              "    [theme=dark] .colab-df-convert:hover {\n",
              "      background-color: #434B5C;\n",
              "      box-shadow: 0px 1px 3px 1px rgba(0, 0, 0, 0.15);\n",
              "      filter: drop-shadow(0px 1px 2px rgba(0, 0, 0, 0.3));\n",
              "      fill: #FFFFFF;\n",
              "    }\n",
              "  </style>\n",
              "\n",
              "    <script>\n",
              "      const buttonEl =\n",
              "        document.querySelector('#df-e40e56b2-d256-4b19-a0ce-ad67dad1c113 button.colab-df-convert');\n",
              "      buttonEl.style.display =\n",
              "        google.colab.kernel.accessAllowed ? 'block' : 'none';\n",
              "\n",
              "      async function convertToInteractive(key) {\n",
              "        const element = document.querySelector('#df-e40e56b2-d256-4b19-a0ce-ad67dad1c113');\n",
              "        const dataTable =\n",
              "          await google.colab.kernel.invokeFunction('convertToInteractive',\n",
              "                                                    [key], {});\n",
              "        if (!dataTable) return;\n",
              "\n",
              "        const docLinkHtml = 'Like what you see? Visit the ' +\n",
              "          '<a target=\"_blank\" href=https://colab.research.google.com/notebooks/data_table.ipynb>data table notebook</a>'\n",
              "          + ' to learn more about interactive tables.';\n",
              "        element.innerHTML = '';\n",
              "        dataTable['output_type'] = 'display_data';\n",
              "        await google.colab.output.renderOutput(dataTable, element);\n",
              "        const docLink = document.createElement('div');\n",
              "        docLink.innerHTML = docLinkHtml;\n",
              "        element.appendChild(docLink);\n",
              "      }\n",
              "    </script>\n",
              "  </div>\n",
              "\n",
              "\n",
              "<div id=\"df-4e01639f-beb3-4b17-91ae-e00fccd92f19\">\n",
              "  <button class=\"colab-df-quickchart\" onclick=\"quickchart('df-4e01639f-beb3-4b17-91ae-e00fccd92f19')\"\n",
              "            title=\"Suggest charts.\"\n",
              "            style=\"display:none;\">\n",
              "\n",
              "<svg xmlns=\"http://www.w3.org/2000/svg\" height=\"24px\"viewBox=\"0 0 24 24\"\n",
              "     width=\"24px\">\n",
              "    <g>\n",
              "        <path d=\"M19 3H5c-1.1 0-2 .9-2 2v14c0 1.1.9 2 2 2h14c1.1 0 2-.9 2-2V5c0-1.1-.9-2-2-2zM9 17H7v-7h2v7zm4 0h-2V7h2v10zm4 0h-2v-4h2v4z\"/>\n",
              "    </g>\n",
              "</svg>\n",
              "  </button>\n",
              "\n",
              "<style>\n",
              "  .colab-df-quickchart {\n",
              "      --bg-color: #E8F0FE;\n",
              "      --fill-color: #1967D2;\n",
              "      --hover-bg-color: #E2EBFA;\n",
              "      --hover-fill-color: #174EA6;\n",
              "      --disabled-fill-color: #AAA;\n",
              "      --disabled-bg-color: #DDD;\n",
              "  }\n",
              "\n",
              "  [theme=dark] .colab-df-quickchart {\n",
              "      --bg-color: #3B4455;\n",
              "      --fill-color: #D2E3FC;\n",
              "      --hover-bg-color: #434B5C;\n",
              "      --hover-fill-color: #FFFFFF;\n",
              "      --disabled-bg-color: #3B4455;\n",
              "      --disabled-fill-color: #666;\n",
              "  }\n",
              "\n",
              "  .colab-df-quickchart {\n",
              "    background-color: var(--bg-color);\n",
              "    border: none;\n",
              "    border-radius: 50%;\n",
              "    cursor: pointer;\n",
              "    display: none;\n",
              "    fill: var(--fill-color);\n",
              "    height: 32px;\n",
              "    padding: 0;\n",
              "    width: 32px;\n",
              "  }\n",
              "\n",
              "  .colab-df-quickchart:hover {\n",
              "    background-color: var(--hover-bg-color);\n",
              "    box-shadow: 0 1px 2px rgba(60, 64, 67, 0.3), 0 1px 3px 1px rgba(60, 64, 67, 0.15);\n",
              "    fill: var(--button-hover-fill-color);\n",
              "  }\n",
              "\n",
              "  .colab-df-quickchart-complete:disabled,\n",
              "  .colab-df-quickchart-complete:disabled:hover {\n",
              "    background-color: var(--disabled-bg-color);\n",
              "    fill: var(--disabled-fill-color);\n",
              "    box-shadow: none;\n",
              "  }\n",
              "\n",
              "  .colab-df-spinner {\n",
              "    border: 2px solid var(--fill-color);\n",
              "    border-color: transparent;\n",
              "    border-bottom-color: var(--fill-color);\n",
              "    animation:\n",
              "      spin 1s steps(1) infinite;\n",
              "  }\n",
              "\n",
              "  @keyframes spin {\n",
              "    0% {\n",
              "      border-color: transparent;\n",
              "      border-bottom-color: var(--fill-color);\n",
              "      border-left-color: var(--fill-color);\n",
              "    }\n",
              "    20% {\n",
              "      border-color: transparent;\n",
              "      border-left-color: var(--fill-color);\n",
              "      border-top-color: var(--fill-color);\n",
              "    }\n",
              "    30% {\n",
              "      border-color: transparent;\n",
              "      border-left-color: var(--fill-color);\n",
              "      border-top-color: var(--fill-color);\n",
              "      border-right-color: var(--fill-color);\n",
              "    }\n",
              "    40% {\n",
              "      border-color: transparent;\n",
              "      border-right-color: var(--fill-color);\n",
              "      border-top-color: var(--fill-color);\n",
              "    }\n",
              "    60% {\n",
              "      border-color: transparent;\n",
              "      border-right-color: var(--fill-color);\n",
              "    }\n",
              "    80% {\n",
              "      border-color: transparent;\n",
              "      border-right-color: var(--fill-color);\n",
              "      border-bottom-color: var(--fill-color);\n",
              "    }\n",
              "    90% {\n",
              "      border-color: transparent;\n",
              "      border-bottom-color: var(--fill-color);\n",
              "    }\n",
              "  }\n",
              "</style>\n",
              "\n",
              "  <script>\n",
              "    async function quickchart(key) {\n",
              "      const quickchartButtonEl =\n",
              "        document.querySelector('#' + key + ' button');\n",
              "      quickchartButtonEl.disabled = true;  // To prevent multiple clicks.\n",
              "      quickchartButtonEl.classList.add('colab-df-spinner');\n",
              "      try {\n",
              "        const charts = await google.colab.kernel.invokeFunction(\n",
              "            'suggestCharts', [key], {});\n",
              "      } catch (error) {\n",
              "        console.error('Error during call to suggestCharts:', error);\n",
              "      }\n",
              "      quickchartButtonEl.classList.remove('colab-df-spinner');\n",
              "      quickchartButtonEl.classList.add('colab-df-quickchart-complete');\n",
              "    }\n",
              "    (() => {\n",
              "      let quickchartButtonEl =\n",
              "        document.querySelector('#df-4e01639f-beb3-4b17-91ae-e00fccd92f19 button');\n",
              "      quickchartButtonEl.style.display =\n",
              "        google.colab.kernel.accessAllowed ? 'block' : 'none';\n",
              "    })();\n",
              "  </script>\n",
              "</div>\n",
              "    </div>\n",
              "  </div>\n"
            ]
          },
          "metadata": {},
          "execution_count": 98
        }
      ]
    },
    {
      "cell_type": "code",
      "source": [],
      "metadata": {
        "id": "b-7jqLHg3fY1"
      },
      "execution_count": null,
      "outputs": []
    },
    {
      "cell_type": "markdown",
      "source": [
        "27b.  We choose the path that the stock price will continue to go down i.e $d^{25}$. from the price evolution table at the S0(initial price 180) we write a sell a put option and sell or short 0.3571 units of the stock, As time progresses, the stock price decreases, the delta becomes more negative(closer to -1) as the stock price fall. This implies the option become more sensitive to changes in the stock price and we should increase our short position in the stock to maintain a neutral or slightly positive Delta.\n",
        "At time 6 onward, the stock prices is $86,3242 and the Delta is -1, which means that our option now tracks the stock movement. The Delta is -1 because American put option behaves like a short position in the stock when its' deeply in the money. As the stock price continues to fall, the Delta remains at -1, indicating that we maintain a perfectly offsetting short position in the stock."
      ],
      "metadata": {
        "id": "MqnJhbea3wQZ"
      }
    },
    {
      "cell_type": "code",
      "source": [],
      "metadata": {
        "id": "WJEFQO7lA6tN"
      },
      "execution_count": null,
      "outputs": []
    }
  ],
  "metadata": {
    "kernelspec": {
      "display_name": "base",
      "language": "python",
      "name": "python3"
    },
    "language_info": {
      "codemirror_mode": {
        "name": "ipython",
        "version": 3
      },
      "file_extension": ".py",
      "mimetype": "text/x-python",
      "name": "python",
      "nbconvert_exporter": "python",
      "pygments_lexer": "ipython3",
      "version": "3.11.5"
    },
    "colab": {
      "provenance": [],
      "include_colab_link": true
    }
  },
  "nbformat": 4,
  "nbformat_minor": 0
}